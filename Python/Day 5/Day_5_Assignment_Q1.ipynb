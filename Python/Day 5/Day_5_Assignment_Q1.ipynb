{
 "cells": [
  {
   "cell_type": "code",
   "execution_count": 26,
   "metadata": {},
   "outputs": [
    {
     "name": "stdout",
     "output_type": "stream",
     "text": [
      "Enter List of numbers123541\n",
      "It's Gone\n"
     ]
    }
   ],
   "source": [
    "slst = [1,1,5]\n",
    "j=0\n",
    "lsty = input(\"Enter List of numbers\")\n",
    "for i in lsty:\n",
    "    si = int(i)\n",
    "    if (slst[j]==si):\n",
    "        if (j+1 == len(slst)):\n",
    "            j = j + 1\n",
    "            break\n",
    "        else:\n",
    "            j = j+1\n",
    "if (j == len(slst)):\n",
    "    print(\"It's Match\")\n",
    "else:\n",
    "    print(\"It's Gone\")"
   ]
  },
  {
   "cell_type": "code",
   "execution_count": null,
   "metadata": {},
   "outputs": [],
   "source": []
  }
 ],
 "metadata": {
  "kernelspec": {
   "display_name": "Python 3",
   "language": "python",
   "name": "python3"
  },
  "language_info": {
   "codemirror_mode": {
    "name": "ipython",
    "version": 3
   },
   "file_extension": ".py",
   "mimetype": "text/x-python",
   "name": "python",
   "nbconvert_exporter": "python",
   "pygments_lexer": "ipython3",
   "version": "3.8.3"
  }
 },
 "nbformat": 4,
 "nbformat_minor": 4
}
