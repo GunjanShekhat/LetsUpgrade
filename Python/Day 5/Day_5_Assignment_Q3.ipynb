{
 "cells": [
  {
   "cell_type": "code",
   "execution_count": 10,
   "metadata": {},
   "outputs": [],
   "source": [
    "#captlLambda = lambda upper\n",
    "\n",
    "def captl(lst):\n",
    "    j=0\n",
    "    for i in lst:\n",
    "        lst[j] = i.capitalize()\n",
    "        j = j + 1\n",
    "    print(lst)"
   ]
  },
  {
   "cell_type": "code",
   "execution_count": 13,
   "metadata": {},
   "outputs": [],
   "source": [
    "lst = [\"hey\",\"gunjan shekhat\"]"
   ]
  },
  {
   "cell_type": "code",
   "execution_count": 14,
   "metadata": {},
   "outputs": [
    {
     "name": "stdout",
     "output_type": "stream",
     "text": [
      "['Hey', 'Gunjan shekhat']\n"
     ]
    }
   ],
   "source": [
    "captl(lst)"
   ]
  },
  {
   "cell_type": "code",
   "execution_count": 19,
   "metadata": {},
   "outputs": [
    {
     "name": "stdout",
     "output_type": "stream",
     "text": [
      "['Hey', 'Gunjan shekhat']\n"
     ]
    }
   ],
   "source": [
    "out = map(lambda x:x.capitalize(), lst) \n",
    "\n",
    "print(list(out))"
   ]
  },
  {
   "cell_type": "code",
   "execution_count": null,
   "metadata": {},
   "outputs": [],
   "source": []
  }
 ],
 "metadata": {
  "kernelspec": {
   "display_name": "Python 3",
   "language": "python",
   "name": "python3"
  },
  "language_info": {
   "codemirror_mode": {
    "name": "ipython",
    "version": 3
   },
   "file_extension": ".py",
   "mimetype": "text/x-python",
   "name": "python",
   "nbconvert_exporter": "python",
   "pygments_lexer": "ipython3",
   "version": "3.8.3"
  }
 },
 "nbformat": 4,
 "nbformat_minor": 4
}
