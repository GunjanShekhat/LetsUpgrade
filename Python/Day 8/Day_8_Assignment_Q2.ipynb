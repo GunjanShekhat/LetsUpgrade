{
 "cells": [
  {
   "cell_type": "code",
   "execution_count": 4,
   "metadata": {},
   "outputs": [
    {
     "name": "stdout",
     "output_type": "stream",
     "text": [
      "Error: can't find file or write data\n"
     ]
    }
   ],
   "source": [
    "try:\n",
    "    file = open('demo.txt', 'r') \n",
    "    file.write(\"This is the write command\") \n",
    "    file.write(\"It allows us to write in a particular file\") \n",
    "    \n",
    "except IOError:\n",
    "    print (\"Error: can\\'t find file or write data\")\n",
    "else:\n",
    "    print(\"Written content in the file successfully\")\n",
    "    file.close()"
   ]
  },
  {
   "cell_type": "code",
   "execution_count": null,
   "metadata": {},
   "outputs": [],
   "source": []
  },
  {
   "cell_type": "code",
   "execution_count": null,
   "metadata": {},
   "outputs": [],
   "source": []
  }
 ],
 "metadata": {
  "kernelspec": {
   "display_name": "Python 3",
   "language": "python",
   "name": "python3"
  },
  "language_info": {
   "codemirror_mode": {
    "name": "ipython",
    "version": 3
   },
   "file_extension": ".py",
   "mimetype": "text/x-python",
   "name": "python",
   "nbconvert_exporter": "python",
   "pygments_lexer": "ipython3",
   "version": "3.8.3"
  }
 },
 "nbformat": 4,
 "nbformat_minor": 4
}
